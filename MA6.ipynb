{
 "cells": [
  {
   "cell_type": "code",
   "execution_count": null,
   "id": "a5ad2a39",
   "metadata": {},
   "outputs": [
    {
     "name": "stdout",
     "output_type": "stream",
     "text": [
      "Classification Report:\n",
      "              precision    recall  f1-score   support\n",
      "\n",
      "           0       0.63      0.71      0.67       113\n",
      "           1       0.60      0.52      0.56        96\n",
      "\n",
      "    accuracy                           0.62       209\n",
      "   macro avg       0.62      0.61      0.61       209\n",
      "weighted avg       0.62      0.62      0.62       209\n",
      "\n",
      "\n",
      "5 Incorrect Predictions:\n",
      "      homeXG  awayXG  Attendance  Actual  Predicted\n",
      "1009     2.2     1.5     61383.0       1          0\n",
      "424      2.1     0.7     61706.0       1          0\n",
      "459      0.4     0.5     60233.0       1          0\n",
      "550      0.9     0.6     41651.0       0          1\n",
      "362      1.6     2.0     31684.0       0          1\n"
     ]
    }
   ],
   "source": [
    "\n",
    "import pandas as pd\n",
    "import numpy as np\n",
    "from sklearn.model_selection import train_test_split\n",
    "from sklearn.tree import DecisionTreeClassifier\n",
    "from sklearn.metrics import classification_report, confusion_matrix\n",
    "import matplotlib.pyplot as plt\n",
    "import seaborn as sns\n",
    "\n",
    "df = pd.read_csv(\"PremierLeagueMatches.csv\")\n",
    "\n",
    "# Cleaning\n",
    "df['Attendance'] = df['Attendance'].str.replace(',', '').astype(float)\n",
    "df['HomeWin'] = df['Result'].apply(lambda x: 1 if x == 'H' else 0)\n",
    "\n",
    "# Select features\n",
    "features = ['homeXG', 'awayXG', 'Attendance']\n",
    "target = 'HomeWin'\n",
    "\n",
    "df_cleaned = df[features + [target]].dropna()\n",
    "\n",
    "# Train-test split\n",
    "X = df_cleaned[features]\n",
    "y = df_cleaned[target]\n",
    "X_train, X_test, y_train, y_test = train_test_split(X, y, test_size=0.2, random_state=42)\n",
    "\n",
    "# Train Decision Tree Classifier\n",
    "model = DecisionTreeClassifier(random_state=42)\n",
    "model.fit(X_train, y_train)\n",
    "\n",
    "# Predict\n",
    "y_pred = model.predict(X_test)\n",
    "print(\"Classification Report:\")\n",
    "print(classification_report(y_test, y_pred))\n",
    "\n",
    "\n",
    "# Show 5 incorrect predictions\n",
    "X_test_results = X_test.copy()\n",
    "X_test_results[\"Actual\"] = y_test\n",
    "X_test_results[\"Predicted\"] = y_pred\n",
    "incorrect_preds = X_test_results[X_test_results[\"Actual\"] != X_test_results[\"Predicted\"]]\n",
    "print(\"\\n5 Incorrect Predictions:\")\n",
    "print(incorrect_preds.head(5))\n"
   ]
  }
 ],
 "metadata": {
  "kernelspec": {
   "display_name": "Python 3",
   "language": "python",
   "name": "python3"
  },
  "language_info": {
   "codemirror_mode": {
    "name": "ipython",
    "version": 3
   },
   "file_extension": ".py",
   "mimetype": "text/x-python",
   "name": "python",
   "nbconvert_exporter": "python",
   "pygments_lexer": "ipython3",
   "version": "3.12.1"
  }
 },
 "nbformat": 4,
 "nbformat_minor": 5
}
